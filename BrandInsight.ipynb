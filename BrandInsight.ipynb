{
  "nbformat": 4,
  "nbformat_minor": 0,
  "metadata": {
    "colab": {
      "provenance": []
    },
    "kernelspec": {
      "name": "python3",
      "display_name": "Python 3"
    },
    "language_info": {
      "name": "python"
    }
  },
  "cells": [
    {
      "cell_type": "code",
      "source": [
        "from gensim.models import Word2Vec"
      ],
      "metadata": {
        "id": "0juv4RkpdISn"
      },
      "execution_count": 1,
      "outputs": []
    },
    {
      "cell_type": "code",
      "source": [
        "!pip install emoji\n",
        "!pip install contractions #for expanding texts like i'm to i am"
      ],
      "metadata": {
        "id": "VaVyqVGZPkP7",
        "colab": {
          "base_uri": "https://localhost:8080/"
        },
        "outputId": "06e8903c-953d-4faa-c7e9-388b06acbedf"
      },
      "execution_count": 2,
      "outputs": [
        {
          "output_type": "stream",
          "name": "stdout",
          "text": [
            "Collecting emoji\n",
            "  Downloading emoji-2.11.1-py2.py3-none-any.whl (433 kB)\n",
            "\u001b[2K     \u001b[90m━━━━━━━━━━━━━━━━━━━━━━━━━━━━━━━━━━━━━━━━\u001b[0m \u001b[32m433.8/433.8 kB\u001b[0m \u001b[31m5.9 MB/s\u001b[0m eta \u001b[36m0:00:00\u001b[0m\n",
            "\u001b[?25hInstalling collected packages: emoji\n",
            "Successfully installed emoji-2.11.1\n",
            "Collecting contractions\n",
            "  Downloading contractions-0.1.73-py2.py3-none-any.whl (8.7 kB)\n",
            "Collecting textsearch>=0.0.21 (from contractions)\n",
            "  Downloading textsearch-0.0.24-py2.py3-none-any.whl (7.6 kB)\n",
            "Collecting anyascii (from textsearch>=0.0.21->contractions)\n",
            "  Downloading anyascii-0.3.2-py3-none-any.whl (289 kB)\n",
            "\u001b[2K     \u001b[90m━━━━━━━━━━━━━━━━━━━━━━━━━━━━━━━━━━━━━━━━\u001b[0m \u001b[32m289.9/289.9 kB\u001b[0m \u001b[31m5.3 MB/s\u001b[0m eta \u001b[36m0:00:00\u001b[0m\n",
            "\u001b[?25hCollecting pyahocorasick (from textsearch>=0.0.21->contractions)\n",
            "  Downloading pyahocorasick-2.1.0-cp310-cp310-manylinux_2_5_x86_64.manylinux1_x86_64.manylinux_2_12_x86_64.manylinux2010_x86_64.whl (110 kB)\n",
            "\u001b[2K     \u001b[90m━━━━━━━━━━━━━━━━━━━━━━━━━━━━━━━━━━━━━━━━\u001b[0m \u001b[32m110.7/110.7 kB\u001b[0m \u001b[31m14.5 MB/s\u001b[0m eta \u001b[36m0:00:00\u001b[0m\n",
            "\u001b[?25hInstalling collected packages: pyahocorasick, anyascii, textsearch, contractions\n",
            "Successfully installed anyascii-0.3.2 contractions-0.1.73 pyahocorasick-2.1.0 textsearch-0.0.24\n"
          ]
        }
      ]
    },
    {
      "cell_type": "code",
      "execution_count": 3,
      "metadata": {
        "id": "OeWfav6V_XMJ",
        "colab": {
          "base_uri": "https://localhost:8080/"
        },
        "outputId": "bea52418-f2aa-443a-e39c-629b574cb1ac"
      },
      "outputs": [
        {
          "output_type": "stream",
          "name": "stderr",
          "text": [
            "[nltk_data] Downloading package stopwords to /root/nltk_data...\n",
            "[nltk_data]   Unzipping corpora/stopwords.zip.\n",
            "[nltk_data] Downloading package wordnet to /root/nltk_data...\n",
            "[nltk_data] Downloading package punkt to /root/nltk_data...\n",
            "[nltk_data]   Unzipping tokenizers/punkt.zip.\n",
            "[nltk_data] Downloading package averaged_perceptron_tagger to\n",
            "[nltk_data]     /root/nltk_data...\n",
            "[nltk_data]   Unzipping taggers/averaged_perceptron_tagger.zip.\n"
          ]
        }
      ],
      "source": [
        "import pandas as pd\n",
        "import nltk\n",
        "import emoji\n",
        "import contractions\n",
        "nltk.download('stopwords') #for stopword\n",
        "nltk.download('wordnet')\n",
        "nltk.download('punkt') #pos tagging\n",
        "nltk.download('averaged_perceptron_tagger')\n",
        "\n",
        "from nltk.stem import WordNetLemmatizer\n",
        "tweets = pd.DataFrame()"
      ]
    },
    {
      "cell_type": "code",
      "source": [
        "tweets_data = pd.read_csv(\"/content/tweets.csv\")\n",
        "tweets_data"
      ],
      "metadata": {
        "id": "nDvf6cZ6DYzA",
        "colab": {
          "base_uri": "https://localhost:8080/",
          "height": 423
        },
        "outputId": "06a0a97a-31f5-4a04-edee-2a72ddd2a767"
      },
      "execution_count": null,
      "outputs": [
        {
          "output_type": "execute_result",
          "data": {
            "text/plain": [
              "                                                 Text\n",
              "0   Just got my hands on the latest collection fro...\n",
              "1   Disappointed with the quality of the fabric in...\n",
              "2   Can't wait to strut my stuff in my new X Cloth...\n",
              "3   The customer service at X Clothing Company is ...\n",
              "4   Obsessed with the vibrant colors in the spring...\n",
              "..                                                ...\n",
              "95  Just scored a killer deal on some workout gear...\n",
              "96  Disappointed that X Clothing Company still has...\n",
              "97  Obsessed with the boho-chic vibes of the new X...\n",
              "98  The X Clothing Company app keeps crashing ever...\n",
              "99  Just discovered that X Clothing Company uses s...\n",
              "\n",
              "[100 rows x 1 columns]"
            ],
            "text/html": [
              "\n",
              "  <div id=\"df-b01fdb59-03a3-4ad1-81be-87afbb0751bf\" class=\"colab-df-container\">\n",
              "    <div>\n",
              "<style scoped>\n",
              "    .dataframe tbody tr th:only-of-type {\n",
              "        vertical-align: middle;\n",
              "    }\n",
              "\n",
              "    .dataframe tbody tr th {\n",
              "        vertical-align: top;\n",
              "    }\n",
              "\n",
              "    .dataframe thead th {\n",
              "        text-align: right;\n",
              "    }\n",
              "</style>\n",
              "<table border=\"1\" class=\"dataframe\">\n",
              "  <thead>\n",
              "    <tr style=\"text-align: right;\">\n",
              "      <th></th>\n",
              "      <th>Text</th>\n",
              "    </tr>\n",
              "  </thead>\n",
              "  <tbody>\n",
              "    <tr>\n",
              "      <th>0</th>\n",
              "      <td>Just got my hands on the latest collection fro...</td>\n",
              "    </tr>\n",
              "    <tr>\n",
              "      <th>1</th>\n",
              "      <td>Disappointed with the quality of the fabric in...</td>\n",
              "    </tr>\n",
              "    <tr>\n",
              "      <th>2</th>\n",
              "      <td>Can't wait to strut my stuff in my new X Cloth...</td>\n",
              "    </tr>\n",
              "    <tr>\n",
              "      <th>3</th>\n",
              "      <td>The customer service at X Clothing Company is ...</td>\n",
              "    </tr>\n",
              "    <tr>\n",
              "      <th>4</th>\n",
              "      <td>Obsessed with the vibrant colors in the spring...</td>\n",
              "    </tr>\n",
              "    <tr>\n",
              "      <th>...</th>\n",
              "      <td>...</td>\n",
              "    </tr>\n",
              "    <tr>\n",
              "      <th>95</th>\n",
              "      <td>Just scored a killer deal on some workout gear...</td>\n",
              "    </tr>\n",
              "    <tr>\n",
              "      <th>96</th>\n",
              "      <td>Disappointed that X Clothing Company still has...</td>\n",
              "    </tr>\n",
              "    <tr>\n",
              "      <th>97</th>\n",
              "      <td>Obsessed with the boho-chic vibes of the new X...</td>\n",
              "    </tr>\n",
              "    <tr>\n",
              "      <th>98</th>\n",
              "      <td>The X Clothing Company app keeps crashing ever...</td>\n",
              "    </tr>\n",
              "    <tr>\n",
              "      <th>99</th>\n",
              "      <td>Just discovered that X Clothing Company uses s...</td>\n",
              "    </tr>\n",
              "  </tbody>\n",
              "</table>\n",
              "<p>100 rows × 1 columns</p>\n",
              "</div>\n",
              "    <div class=\"colab-df-buttons\">\n",
              "\n",
              "  <div class=\"colab-df-container\">\n",
              "    <button class=\"colab-df-convert\" onclick=\"convertToInteractive('df-b01fdb59-03a3-4ad1-81be-87afbb0751bf')\"\n",
              "            title=\"Convert this dataframe to an interactive table.\"\n",
              "            style=\"display:none;\">\n",
              "\n",
              "  <svg xmlns=\"http://www.w3.org/2000/svg\" height=\"24px\" viewBox=\"0 -960 960 960\">\n",
              "    <path d=\"M120-120v-720h720v720H120Zm60-500h600v-160H180v160Zm220 220h160v-160H400v160Zm0 220h160v-160H400v160ZM180-400h160v-160H180v160Zm440 0h160v-160H620v160ZM180-180h160v-160H180v160Zm440 0h160v-160H620v160Z\"/>\n",
              "  </svg>\n",
              "    </button>\n",
              "\n",
              "  <style>\n",
              "    .colab-df-container {\n",
              "      display:flex;\n",
              "      gap: 12px;\n",
              "    }\n",
              "\n",
              "    .colab-df-convert {\n",
              "      background-color: #E8F0FE;\n",
              "      border: none;\n",
              "      border-radius: 50%;\n",
              "      cursor: pointer;\n",
              "      display: none;\n",
              "      fill: #1967D2;\n",
              "      height: 32px;\n",
              "      padding: 0 0 0 0;\n",
              "      width: 32px;\n",
              "    }\n",
              "\n",
              "    .colab-df-convert:hover {\n",
              "      background-color: #E2EBFA;\n",
              "      box-shadow: 0px 1px 2px rgba(60, 64, 67, 0.3), 0px 1px 3px 1px rgba(60, 64, 67, 0.15);\n",
              "      fill: #174EA6;\n",
              "    }\n",
              "\n",
              "    .colab-df-buttons div {\n",
              "      margin-bottom: 4px;\n",
              "    }\n",
              "\n",
              "    [theme=dark] .colab-df-convert {\n",
              "      background-color: #3B4455;\n",
              "      fill: #D2E3FC;\n",
              "    }\n",
              "\n",
              "    [theme=dark] .colab-df-convert:hover {\n",
              "      background-color: #434B5C;\n",
              "      box-shadow: 0px 1px 3px 1px rgba(0, 0, 0, 0.15);\n",
              "      filter: drop-shadow(0px 1px 2px rgba(0, 0, 0, 0.3));\n",
              "      fill: #FFFFFF;\n",
              "    }\n",
              "  </style>\n",
              "\n",
              "    <script>\n",
              "      const buttonEl =\n",
              "        document.querySelector('#df-b01fdb59-03a3-4ad1-81be-87afbb0751bf button.colab-df-convert');\n",
              "      buttonEl.style.display =\n",
              "        google.colab.kernel.accessAllowed ? 'block' : 'none';\n",
              "\n",
              "      async function convertToInteractive(key) {\n",
              "        const element = document.querySelector('#df-b01fdb59-03a3-4ad1-81be-87afbb0751bf');\n",
              "        const dataTable =\n",
              "          await google.colab.kernel.invokeFunction('convertToInteractive',\n",
              "                                                    [key], {});\n",
              "        if (!dataTable) return;\n",
              "\n",
              "        const docLinkHtml = 'Like what you see? Visit the ' +\n",
              "          '<a target=\"_blank\" href=https://colab.research.google.com/notebooks/data_table.ipynb>data table notebook</a>'\n",
              "          + ' to learn more about interactive tables.';\n",
              "        element.innerHTML = '';\n",
              "        dataTable['output_type'] = 'display_data';\n",
              "        await google.colab.output.renderOutput(dataTable, element);\n",
              "        const docLink = document.createElement('div');\n",
              "        docLink.innerHTML = docLinkHtml;\n",
              "        element.appendChild(docLink);\n",
              "      }\n",
              "    </script>\n",
              "  </div>\n",
              "\n",
              "\n",
              "<div id=\"df-19f1b72c-636f-48a9-bdeb-49c8bd476035\">\n",
              "  <button class=\"colab-df-quickchart\" onclick=\"quickchart('df-19f1b72c-636f-48a9-bdeb-49c8bd476035')\"\n",
              "            title=\"Suggest charts\"\n",
              "            style=\"display:none;\">\n",
              "\n",
              "<svg xmlns=\"http://www.w3.org/2000/svg\" height=\"24px\"viewBox=\"0 0 24 24\"\n",
              "     width=\"24px\">\n",
              "    <g>\n",
              "        <path d=\"M19 3H5c-1.1 0-2 .9-2 2v14c0 1.1.9 2 2 2h14c1.1 0 2-.9 2-2V5c0-1.1-.9-2-2-2zM9 17H7v-7h2v7zm4 0h-2V7h2v10zm4 0h-2v-4h2v4z\"/>\n",
              "    </g>\n",
              "</svg>\n",
              "  </button>\n",
              "\n",
              "<style>\n",
              "  .colab-df-quickchart {\n",
              "      --bg-color: #E8F0FE;\n",
              "      --fill-color: #1967D2;\n",
              "      --hover-bg-color: #E2EBFA;\n",
              "      --hover-fill-color: #174EA6;\n",
              "      --disabled-fill-color: #AAA;\n",
              "      --disabled-bg-color: #DDD;\n",
              "  }\n",
              "\n",
              "  [theme=dark] .colab-df-quickchart {\n",
              "      --bg-color: #3B4455;\n",
              "      --fill-color: #D2E3FC;\n",
              "      --hover-bg-color: #434B5C;\n",
              "      --hover-fill-color: #FFFFFF;\n",
              "      --disabled-bg-color: #3B4455;\n",
              "      --disabled-fill-color: #666;\n",
              "  }\n",
              "\n",
              "  .colab-df-quickchart {\n",
              "    background-color: var(--bg-color);\n",
              "    border: none;\n",
              "    border-radius: 50%;\n",
              "    cursor: pointer;\n",
              "    display: none;\n",
              "    fill: var(--fill-color);\n",
              "    height: 32px;\n",
              "    padding: 0;\n",
              "    width: 32px;\n",
              "  }\n",
              "\n",
              "  .colab-df-quickchart:hover {\n",
              "    background-color: var(--hover-bg-color);\n",
              "    box-shadow: 0 1px 2px rgba(60, 64, 67, 0.3), 0 1px 3px 1px rgba(60, 64, 67, 0.15);\n",
              "    fill: var(--button-hover-fill-color);\n",
              "  }\n",
              "\n",
              "  .colab-df-quickchart-complete:disabled,\n",
              "  .colab-df-quickchart-complete:disabled:hover {\n",
              "    background-color: var(--disabled-bg-color);\n",
              "    fill: var(--disabled-fill-color);\n",
              "    box-shadow: none;\n",
              "  }\n",
              "\n",
              "  .colab-df-spinner {\n",
              "    border: 2px solid var(--fill-color);\n",
              "    border-color: transparent;\n",
              "    border-bottom-color: var(--fill-color);\n",
              "    animation:\n",
              "      spin 1s steps(1) infinite;\n",
              "  }\n",
              "\n",
              "  @keyframes spin {\n",
              "    0% {\n",
              "      border-color: transparent;\n",
              "      border-bottom-color: var(--fill-color);\n",
              "      border-left-color: var(--fill-color);\n",
              "    }\n",
              "    20% {\n",
              "      border-color: transparent;\n",
              "      border-left-color: var(--fill-color);\n",
              "      border-top-color: var(--fill-color);\n",
              "    }\n",
              "    30% {\n",
              "      border-color: transparent;\n",
              "      border-left-color: var(--fill-color);\n",
              "      border-top-color: var(--fill-color);\n",
              "      border-right-color: var(--fill-color);\n",
              "    }\n",
              "    40% {\n",
              "      border-color: transparent;\n",
              "      border-right-color: var(--fill-color);\n",
              "      border-top-color: var(--fill-color);\n",
              "    }\n",
              "    60% {\n",
              "      border-color: transparent;\n",
              "      border-right-color: var(--fill-color);\n",
              "    }\n",
              "    80% {\n",
              "      border-color: transparent;\n",
              "      border-right-color: var(--fill-color);\n",
              "      border-bottom-color: var(--fill-color);\n",
              "    }\n",
              "    90% {\n",
              "      border-color: transparent;\n",
              "      border-bottom-color: var(--fill-color);\n",
              "    }\n",
              "  }\n",
              "</style>\n",
              "\n",
              "  <script>\n",
              "    async function quickchart(key) {\n",
              "      const quickchartButtonEl =\n",
              "        document.querySelector('#' + key + ' button');\n",
              "      quickchartButtonEl.disabled = true;  // To prevent multiple clicks.\n",
              "      quickchartButtonEl.classList.add('colab-df-spinner');\n",
              "      try {\n",
              "        const charts = await google.colab.kernel.invokeFunction(\n",
              "            'suggestCharts', [key], {});\n",
              "      } catch (error) {\n",
              "        console.error('Error during call to suggestCharts:', error);\n",
              "      }\n",
              "      quickchartButtonEl.classList.remove('colab-df-spinner');\n",
              "      quickchartButtonEl.classList.add('colab-df-quickchart-complete');\n",
              "    }\n",
              "    (() => {\n",
              "      let quickchartButtonEl =\n",
              "        document.querySelector('#df-19f1b72c-636f-48a9-bdeb-49c8bd476035 button');\n",
              "      quickchartButtonEl.style.display =\n",
              "        google.colab.kernel.accessAllowed ? 'block' : 'none';\n",
              "    })();\n",
              "  </script>\n",
              "</div>\n",
              "\n",
              "  <div id=\"id_1987f55f-5502-44a2-a49b-5dc0f15ee495\">\n",
              "    <style>\n",
              "      .colab-df-generate {\n",
              "        background-color: #E8F0FE;\n",
              "        border: none;\n",
              "        border-radius: 50%;\n",
              "        cursor: pointer;\n",
              "        display: none;\n",
              "        fill: #1967D2;\n",
              "        height: 32px;\n",
              "        padding: 0 0 0 0;\n",
              "        width: 32px;\n",
              "      }\n",
              "\n",
              "      .colab-df-generate:hover {\n",
              "        background-color: #E2EBFA;\n",
              "        box-shadow: 0px 1px 2px rgba(60, 64, 67, 0.3), 0px 1px 3px 1px rgba(60, 64, 67, 0.15);\n",
              "        fill: #174EA6;\n",
              "      }\n",
              "\n",
              "      [theme=dark] .colab-df-generate {\n",
              "        background-color: #3B4455;\n",
              "        fill: #D2E3FC;\n",
              "      }\n",
              "\n",
              "      [theme=dark] .colab-df-generate:hover {\n",
              "        background-color: #434B5C;\n",
              "        box-shadow: 0px 1px 3px 1px rgba(0, 0, 0, 0.15);\n",
              "        filter: drop-shadow(0px 1px 2px rgba(0, 0, 0, 0.3));\n",
              "        fill: #FFFFFF;\n",
              "      }\n",
              "    </style>\n",
              "    <button class=\"colab-df-generate\" onclick=\"generateWithVariable('tweets_data')\"\n",
              "            title=\"Generate code using this dataframe.\"\n",
              "            style=\"display:none;\">\n",
              "\n",
              "  <svg xmlns=\"http://www.w3.org/2000/svg\" height=\"24px\"viewBox=\"0 0 24 24\"\n",
              "       width=\"24px\">\n",
              "    <path d=\"M7,19H8.4L18.45,9,17,7.55,7,17.6ZM5,21V16.75L18.45,3.32a2,2,0,0,1,2.83,0l1.4,1.43a1.91,1.91,0,0,1,.58,1.4,1.91,1.91,0,0,1-.58,1.4L9.25,21ZM18.45,9,17,7.55Zm-12,3A5.31,5.31,0,0,0,4.9,8.1,5.31,5.31,0,0,0,1,6.5,5.31,5.31,0,0,0,4.9,4.9,5.31,5.31,0,0,0,6.5,1,5.31,5.31,0,0,0,8.1,4.9,5.31,5.31,0,0,0,12,6.5,5.46,5.46,0,0,0,6.5,12Z\"/>\n",
              "  </svg>\n",
              "    </button>\n",
              "    <script>\n",
              "      (() => {\n",
              "      const buttonEl =\n",
              "        document.querySelector('#id_1987f55f-5502-44a2-a49b-5dc0f15ee495 button.colab-df-generate');\n",
              "      buttonEl.style.display =\n",
              "        google.colab.kernel.accessAllowed ? 'block' : 'none';\n",
              "\n",
              "      buttonEl.onclick = () => {\n",
              "        google.colab.notebook.generateWithVariable('tweets_data');\n",
              "      }\n",
              "      })();\n",
              "    </script>\n",
              "  </div>\n",
              "\n",
              "    </div>\n",
              "  </div>\n"
            ],
            "application/vnd.google.colaboratory.intrinsic+json": {
              "type": "dataframe",
              "variable_name": "tweets_data",
              "summary": "{\n  \"name\": \"tweets_data\",\n  \"rows\": 100,\n  \"fields\": [\n    {\n      \"column\": \"Text\",\n      \"properties\": {\n        \"dtype\": \"string\",\n        \"num_unique_values\": 87,\n        \"samples\": [\n          \"Feeling like a total fashionista in my new outfit from X Clothing Company! Thanks for keeping me stylish\",\n          \"Just got my hands on the latest collection from X Clothing Company, and I'm loving the sleek designs! \\ud83d\\ude0d #FashionForward\\n\",\n          \"Just spotted my favorite celebrity wearing X Clothing Company on the red carpet! They have great taste\"\n        ],\n        \"semantic_type\": \"\",\n        \"description\": \"\"\n      }\n    }\n  ]\n}"
            }
          },
          "metadata": {},
          "execution_count": 218
        }
      ]
    },
    {
      "cell_type": "markdown",
      "source": [
        "# Substitute emoji with their meaning"
      ],
      "metadata": {
        "id": "SgccVtN5fqfg"
      }
    },
    {
      "cell_type": "code",
      "source": [
        "tweet1 = tweets_data.iloc[0,0]"
      ],
      "metadata": {
        "id": "kL6IA-I4aqBl"
      },
      "execution_count": null,
      "outputs": []
    },
    {
      "cell_type": "code",
      "source": [
        "tweets_data[\"Text\"] = tweets_data[\"Text\"].apply(emoji.demojize)"
      ],
      "metadata": {
        "id": "DGU5YJWGbxgi"
      },
      "execution_count": null,
      "outputs": []
    },
    {
      "cell_type": "code",
      "source": [
        "tweets_data[\"Text\"][0]"
      ],
      "metadata": {
        "colab": {
          "base_uri": "https://localhost:8080/",
          "height": 52
        },
        "id": "_Uuz54ntceIZ",
        "outputId": "5f0cc93b-a7a0-4306-e590-a13b1830dd56"
      },
      "execution_count": null,
      "outputs": [
        {
          "output_type": "execute_result",
          "data": {
            "text/plain": [
              "\"Just got my hands on the latest collection from X Clothing Company, and I'm loving the sleek designs! :smiling_face_with_heart-eyes: #FashionForward\\n\""
            ],
            "application/vnd.google.colaboratory.intrinsic+json": {
              "type": "string"
            }
          },
          "metadata": {},
          "execution_count": 221
        }
      ]
    },
    {
      "cell_type": "markdown",
      "source": [
        "# Removing the \\n added by demojize"
      ],
      "metadata": {
        "id": "QUNFKnodfxIe"
      }
    },
    {
      "cell_type": "code",
      "source": [
        "tweets_data[\"Text\"] = tweets_data[\"Text\"].str.strip(\"\\n\")"
      ],
      "metadata": {
        "id": "MZQcI4tjchmA"
      },
      "execution_count": null,
      "outputs": []
    },
    {
      "cell_type": "code",
      "source": [
        "tweets_data[\"Text\"][0]"
      ],
      "metadata": {
        "colab": {
          "base_uri": "https://localhost:8080/",
          "height": 52
        },
        "id": "dYPOSBric8Hv",
        "outputId": "f8ea7b72-7cee-44c1-faa2-0ec3e6ef63ae"
      },
      "execution_count": null,
      "outputs": [
        {
          "output_type": "execute_result",
          "data": {
            "text/plain": [
              "\"Just got my hands on the latest collection from X Clothing Company, and I'm loving the sleek designs! :smiling_face_with_heart-eyes: #FashionForward\""
            ],
            "application/vnd.google.colaboratory.intrinsic+json": {
              "type": "string"
            }
          },
          "metadata": {},
          "execution_count": 223
        }
      ]
    },
    {
      "cell_type": "markdown",
      "source": [
        "# Remove the punctuations"
      ],
      "metadata": {
        "id": "XFHtbQyZf3y3"
      }
    },
    {
      "cell_type": "code",
      "source": [
        "import re"
      ],
      "metadata": {
        "id": "mt4NGl_GdHDv"
      },
      "execution_count": null,
      "outputs": []
    },
    {
      "cell_type": "code",
      "source": [
        "def remove_punctuations(string):\n",
        "  punc_removed = re.sub(r\"[^\\w\\s']\",\"\",string)\n",
        "  return punc_removed"
      ],
      "metadata": {
        "id": "6FreWmq9dOvC"
      },
      "execution_count": null,
      "outputs": []
    },
    {
      "cell_type": "code",
      "source": [
        "tweets_data[\"Text\"] = tweets_data[\"Text\"].apply(remove_punctuations)\n",
        "tweets_data[\"Text\"]"
      ],
      "metadata": {
        "colab": {
          "base_uri": "https://localhost:8080/"
        },
        "id": "gMF3TKXFeHJS",
        "outputId": "c80a2327-90bd-4579-f34d-bd68492ad8c0"
      },
      "execution_count": null,
      "outputs": [
        {
          "output_type": "execute_result",
          "data": {
            "text/plain": [
              "0     Just got my hands on the latest collection fro...\n",
              "1     Disappointed with the quality of the fabric in...\n",
              "2     Can't wait to strut my stuff in my new X Cloth...\n",
              "3     The customer service at X Clothing Company is ...\n",
              "4     Obsessed with the vibrant colors in the spring...\n",
              "                            ...                        \n",
              "95    Just scored a killer deal on some workout gear...\n",
              "96    Disappointed that X Clothing Company still has...\n",
              "97    Obsessed with the bohochic vibes of the new X ...\n",
              "98    The X Clothing Company app keeps crashing ever...\n",
              "99    Just discovered that X Clothing Company uses s...\n",
              "Name: Text, Length: 100, dtype: object"
            ]
          },
          "metadata": {},
          "execution_count": 226
        }
      ]
    },
    {
      "cell_type": "markdown",
      "source": [
        "# Removed the extra spaces"
      ],
      "metadata": {
        "id": "YTNmlWzJixkx"
      }
    },
    {
      "cell_type": "code",
      "source": [
        "tweets_data[\"Text\"] = tweets_data[\"Text\"].str.replace(\"  \",\" \")\n",
        "tweets_data[\"Text\"][0]"
      ],
      "metadata": {
        "colab": {
          "base_uri": "https://localhost:8080/",
          "height": 35
        },
        "id": "RU4_0Uj2hdLG",
        "outputId": "a2eed862-cbf5-4420-ff9d-64db435d3535"
      },
      "execution_count": null,
      "outputs": [
        {
          "output_type": "execute_result",
          "data": {
            "text/plain": [
              "\"Just got my hands on the latest collection from X Clothing Company and I'm loving the sleek designs smiling_face_with_hearteyes FashionForward\""
            ],
            "application/vnd.google.colaboratory.intrinsic+json": {
              "type": "string"
            }
          },
          "metadata": {},
          "execution_count": 227
        }
      ]
    },
    {
      "cell_type": "markdown",
      "source": [
        "#Tokenization"
      ],
      "metadata": {
        "id": "eHUk9ssei0TD"
      }
    },
    {
      "cell_type": "code",
      "source": [
        "contractions.contractions_dict"
      ],
      "metadata": {
        "id": "kO1qHYYuVmmQ"
      },
      "execution_count": null,
      "outputs": []
    },
    {
      "cell_type": "code",
      "source": [
        "contractions.fix(\"I'm\")"
      ],
      "metadata": {
        "colab": {
          "base_uri": "https://localhost:8080/",
          "height": 35
        },
        "id": "NFTp-_knKCCA",
        "outputId": "0978e067-b299-4a9a-de79-9d1f4cc2ec78"
      },
      "execution_count": null,
      "outputs": [
        {
          "output_type": "execute_result",
          "data": {
            "text/plain": [
              "'I am'"
            ],
            "application/vnd.google.colaboratory.intrinsic+json": {
              "type": "string"
            }
          },
          "metadata": {},
          "execution_count": 229
        }
      ]
    },
    {
      "cell_type": "code",
      "source": [
        "# tweets_data[\"Text\"] = tweets_data[\"Text\"].apply(lambda tweet:nltk.word_tokenize(tweet))\n",
        "# tweets_data[\"Text\"][0]"
      ],
      "metadata": {
        "id": "QDxW_IZ2QLd1"
      },
      "execution_count": null,
      "outputs": []
    },
    {
      "cell_type": "code",
      "source": [
        "tweets_data[\"Text\"] = tweets_data[\"Text\"].apply(lambda tweet:tweet.split())\n",
        "tweets_data[\"Text\"][0]"
      ],
      "metadata": {
        "colab": {
          "base_uri": "https://localhost:8080/"
        },
        "id": "CezpPo3OiY6W",
        "outputId": "d35f49cc-e5dd-4574-da8e-d11a2278c210"
      },
      "execution_count": null,
      "outputs": [
        {
          "output_type": "execute_result",
          "data": {
            "text/plain": [
              "['Just',\n",
              " 'got',\n",
              " 'my',\n",
              " 'hands',\n",
              " 'on',\n",
              " 'the',\n",
              " 'latest',\n",
              " 'collection',\n",
              " 'from',\n",
              " 'X',\n",
              " 'Clothing',\n",
              " 'Company',\n",
              " 'and',\n",
              " \"I'm\",\n",
              " 'loving',\n",
              " 'the',\n",
              " 'sleek',\n",
              " 'designs',\n",
              " 'smiling_face_with_hearteyes',\n",
              " 'FashionForward']"
            ]
          },
          "metadata": {},
          "execution_count": 231
        }
      ]
    },
    {
      "cell_type": "markdown",
      "source": [
        "# Changing slangs and contractions to normal english"
      ],
      "metadata": {
        "id": "kt1AxU_CLJA1"
      }
    },
    {
      "cell_type": "code",
      "source": [
        "apostrophes = contractions.contractions_dict"
      ],
      "metadata": {
        "id": "dXkPDRArKRVz"
      },
      "execution_count": null,
      "outputs": []
    },
    {
      "cell_type": "code",
      "source": [
        "contractions.fix(\"idk\")"
      ],
      "metadata": {
        "colab": {
          "base_uri": "https://localhost:8080/",
          "height": 35
        },
        "id": "YFY9R0mXXVef",
        "outputId": "a2cdccf7-d2c1-4bdd-84d0-871363e704d2"
      },
      "execution_count": null,
      "outputs": [
        {
          "output_type": "execute_result",
          "data": {
            "text/plain": [
              "'i do not know'"
            ],
            "application/vnd.google.colaboratory.intrinsic+json": {
              "type": "string"
            }
          },
          "metadata": {},
          "execution_count": 233
        }
      ]
    },
    {
      "cell_type": "code",
      "source": [
        "def remove_contractions(tokens):\n",
        "  temp = tokens.copy()\n",
        "  for index,token in enumerate(temp):\n",
        "    if token in apostrophes.keys():\n",
        "\n",
        "      temp.remove(token)\n",
        "      expanded = contractions.fix(token)\n",
        "      end_point = len(expanded) - 1\n",
        "      temp[index:index+end_point] = expanded.split()\n",
        "\n",
        "  return temp"
      ],
      "metadata": {
        "id": "QlDSfObVIIQQ"
      },
      "execution_count": null,
      "outputs": []
    },
    {
      "cell_type": "code",
      "source": [
        "tweets_data[\"Text\"] = tweets_data[\"Text\"].apply(remove_contractions)\n",
        "tweets_data[\"Text\"][0]"
      ],
      "metadata": {
        "colab": {
          "base_uri": "https://localhost:8080/"
        },
        "id": "tINLadPMONNp",
        "outputId": "aa6e4211-1762-4948-8519-6f6bb19f59be"
      },
      "execution_count": null,
      "outputs": [
        {
          "output_type": "execute_result",
          "data": {
            "text/plain": [
              "['got',\n",
              " 'hands',\n",
              " 'latest',\n",
              " 'collection',\n",
              " 'X',\n",
              " 'Clothing',\n",
              " 'Company',\n",
              " 'designs',\n",
              " 'smiling_face_with_hearteyes',\n",
              " 'FashionForward']"
            ]
          },
          "metadata": {},
          "execution_count": 246
        }
      ]
    },
    {
      "cell_type": "code",
      "source": [
        "temp_tokens = tweets_data[\"Text\"]\n",
        "model2 = Word2Vec(temp_tokens, min_count=1, vector_size=1,\n",
        "                                window=5, sg=1)"
      ],
      "metadata": {
        "id": "c8hjWK9IlT1a"
      },
      "execution_count": null,
      "outputs": []
    },
    {
      "cell_type": "code",
      "source": [
        "model2.wv.get_vector(\"smiling_face_with_hearteyes\")"
      ],
      "metadata": {
        "colab": {
          "base_uri": "https://localhost:8080/"
        },
        "id": "JOTTqaY2e0K8",
        "outputId": "53b2b71c-f40e-43b1-95ad-ead80b185630"
      },
      "execution_count": null,
      "outputs": [
        {
          "output_type": "execute_result",
          "data": {
            "text/plain": [
              "array([-0.62881535], dtype=float32)"
            ]
          },
          "metadata": {},
          "execution_count": 249
        }
      ]
    },
    {
      "cell_type": "code",
      "source": [],
      "metadata": {
        "id": "P-Pb8LfzeDhu"
      },
      "execution_count": null,
      "outputs": []
    },
    {
      "cell_type": "markdown",
      "source": [
        "# Stopword removal"
      ],
      "metadata": {
        "id": "4ryRpE-BoUdr"
      }
    },
    {
      "cell_type": "code",
      "source": [
        "stopwords = nltk.corpus.stopwords.words(\"english\")"
      ],
      "metadata": {
        "id": "H1JX4Albijhx"
      },
      "execution_count": null,
      "outputs": []
    },
    {
      "cell_type": "code",
      "source": [
        "def remove_stopwords(tokens,stopwords):\n",
        "  non_stopwords = [token for token in tokens if token.lower() not in stopwords]\n",
        "  return non_stopwords"
      ],
      "metadata": {
        "id": "5iC1r_KyjBMS"
      },
      "execution_count": null,
      "outputs": []
    },
    {
      "cell_type": "code",
      "source": [
        "tweets_data[\"Text\"] = tweets_data[\"Text\"].apply(remove_stopwords,args=([stopwords]))\n",
        "tweets_data[\"Text\"][0]"
      ],
      "metadata": {
        "id": "lF90TJ2lkADK",
        "colab": {
          "base_uri": "https://localhost:8080/"
        },
        "outputId": "c7fc4bc3-3096-4481-c5e5-c8641cca3bfa"
      },
      "execution_count": null,
      "outputs": [
        {
          "output_type": "execute_result",
          "data": {
            "text/plain": [
              "['got',\n",
              " 'hands',\n",
              " 'latest',\n",
              " 'collection',\n",
              " 'X',\n",
              " 'Clothing',\n",
              " 'Company',\n",
              " 'designs',\n",
              " 'smiling_face_with_hearteyes',\n",
              " 'FashionForward']"
            ]
          },
          "metadata": {},
          "execution_count": 240
        }
      ]
    },
    {
      "cell_type": "markdown",
      "source": [
        "# POS tagging"
      ],
      "metadata": {
        "id": "Tu7m_sQUsQ-7"
      }
    },
    {
      "cell_type": "code",
      "source": [
        "tagged = nltk.pos_tag(tweets_data[\"Text\"][0])\n",
        "tagged"
      ],
      "metadata": {
        "colab": {
          "base_uri": "https://localhost:8080/"
        },
        "id": "Rpu-f4y8sSot",
        "outputId": "0b42e439-d4b3-443e-e1d6-126c2ec69a9a"
      },
      "execution_count": null,
      "outputs": [
        {
          "output_type": "execute_result",
          "data": {
            "text/plain": [
              "[('got', 'VBD'),\n",
              " ('hands', 'NNS'),\n",
              " ('latest', 'JJS'),\n",
              " ('collection', 'NN'),\n",
              " ('X', 'NN'),\n",
              " ('Clothing', 'NNP'),\n",
              " ('Company', 'NNP'),\n",
              " ('designs', 'VBZ'),\n",
              " ('smiling_face_with_hearteyes', 'NNS'),\n",
              " ('FashionForward', 'NNP')]"
            ]
          },
          "metadata": {},
          "execution_count": 241
        }
      ]
    },
    {
      "cell_type": "markdown",
      "source": [
        "# Lemmatization"
      ],
      "metadata": {
        "id": "1WXRe69EoZ38"
      }
    },
    {
      "cell_type": "code",
      "source": [
        "def lemmatize(tokens,lemma):\n",
        "  lemmatized = [lemma.lemmatize(token) for token in tokens]\n",
        "  return lemmatized"
      ],
      "metadata": {
        "id": "cCPSasYwpRUF"
      },
      "execution_count": null,
      "outputs": []
    },
    {
      "cell_type": "code",
      "source": [
        "lemma = WordNetLemmatizer()\n",
        "lemma.lemmatize(\"smart\",\"a\")"
      ],
      "metadata": {
        "colab": {
          "base_uri": "https://localhost:8080/"
        },
        "id": "Iem7CzxTp-Sx",
        "outputId": "b69a7f61-4643-4252-ea2b-769f5be7f8ab"
      },
      "execution_count": null,
      "outputs": [
        {
          "output_type": "execute_result",
          "data": {
            "text/plain": [
              "'smart'"
            ],
            "application/vnd.google.colaboratory.intrinsic+json": {
              "type": "string"
            }
          },
          "metadata": {},
          "execution_count": 243
        }
      ]
    },
    {
      "cell_type": "code",
      "source": [
        "tweets_data[\"Text\"][0]"
      ],
      "metadata": {
        "colab": {
          "base_uri": "https://localhost:8080/"
        },
        "id": "pkXQYGlnTGQu",
        "outputId": "5ab5ec9e-9577-468d-bae3-ffda35f62f2e"
      },
      "execution_count": null,
      "outputs": [
        {
          "output_type": "execute_result",
          "data": {
            "text/plain": [
              "['got',\n",
              " 'hands',\n",
              " 'latest',\n",
              " 'collection',\n",
              " 'X',\n",
              " 'Clothing',\n",
              " 'Company',\n",
              " 'designs',\n",
              " 'smiling_face_with_hearteyes',\n",
              " 'FashionForward']"
            ]
          },
          "metadata": {},
          "execution_count": 244
        }
      ]
    },
    {
      "cell_type": "code",
      "source": [
        "temp = tweets_data[\"Text\"].apply(lemmatize,args=([lemma]))\n",
        "temp"
      ],
      "metadata": {
        "colab": {
          "base_uri": "https://localhost:8080/"
        },
        "id": "tGcHfKTNoZiA",
        "outputId": "6e669d03-dbfc-42fb-883e-4df60fbef49d"
      },
      "execution_count": null,
      "outputs": [
        {
          "output_type": "execute_result",
          "data": {
            "text/plain": [
              "0     [got, hand, latest, collection, X, Clothing, C...\n",
              "1     [Disappointed, quality, fabric, new, X, Clothi...\n",
              "2     [Can't, wait, strut, stuff, new, X, Clothing, ...\n",
              "3     [customer, service, X, Clothing, Company, seri...\n",
              "4     [Obsessed, vibrant, color, spring, collection,...\n",
              "                            ...                        \n",
              "95    [scored, killer, deal, workout, gear, X, Cloth...\n",
              "96          [Disappointed, X, Clothing, Company, still]\n",
              "97    [Obsessed, bohochic, vibe, new, X, Clothing, C...\n",
              "98    [X, Clothing, Company, app, keep, crashing, ev...\n",
              "99    [discovered, X, Clothing, Company, us, sustain...\n",
              "Name: Text, Length: 100, dtype: object"
            ]
          },
          "metadata": {},
          "execution_count": 245
        }
      ]
    },
    {
      "cell_type": "code",
      "source": [],
      "metadata": {
        "id": "Kq_72cWxpEPp"
      },
      "execution_count": null,
      "outputs": []
    }
  ]
}